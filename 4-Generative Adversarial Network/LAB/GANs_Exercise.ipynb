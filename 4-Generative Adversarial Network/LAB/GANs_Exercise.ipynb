{
 "cells": [
  {
   "cell_type": "markdown",
   "id": "3f1d90d1",
   "metadata": {},
   "source": [
    "# GANs Exercise Notebook\n",
    "In this exercise, you will implement a Generative Adversarial Network (GAN) from scratch using a different dataset. Follow the step-by-step instructions and fill in the code blocks where indicated."
   ]
  },
  {
   "cell_type": "markdown",
   "id": "8c96b032",
   "metadata": {},
   "source": [
    "## Introduction\n",
    "This exercise will guide you through the process of implementing a GAN using the Fashion MNIST dataset. The Fashion MNIST dataset is similar to the MNIST dataset but contains images of clothing items instead of handwritten digits.\n",
    "\n",
    "Here you can access the [Dataset](https://www.tensorflow.org/datasets/catalog/fashion_mnist)"
   ]
  },
  {
   "cell_type": "markdown",
   "id": "92dd5595",
   "metadata": {},
   "source": [
    "### Step 1: Import Libraries\n",
    "Start by importing the necessary libraries for building the GAN."
   ]
  },
  {
   "cell_type": "code",
   "execution_count": null,
   "id": "579bf176",
   "metadata": {},
   "outputs": [],
   "source": []
  },
  {
   "cell_type": "markdown",
   "id": "cd475880",
   "metadata": {},
   "source": [
    "### Step 2: Load and Prepare the Dataset\n",
    "Load the Fashion MNIST dataset and preprocess the data to normalize it between -1 and 1."
   ]
  },
  {
   "cell_type": "code",
   "execution_count": null,
   "id": "9af98a21",
   "metadata": {},
   "outputs": [],
   "source": []
  },
  {
   "cell_type": "markdown",
   "id": "233cf43b",
   "metadata": {},
   "source": [
    "### Step 3: Build the Generator\n",
    "Define the architecture of the Generator. The Generator takes random noise as input and generates synthetic images."
   ]
  },
  {
   "cell_type": "code",
   "execution_count": null,
   "id": "e3028f94",
   "metadata": {},
   "outputs": [],
   "source": []
  },
  {
   "cell_type": "markdown",
   "id": "4a130d7f",
   "metadata": {},
   "source": [
    "### Step 4: Build the Discriminator\n",
    "Define the architecture of the Discriminator. The Discriminator distinguishes between real and fake images."
   ]
  },
  {
   "cell_type": "code",
   "execution_count": null,
   "id": "c780ac36",
   "metadata": {},
   "outputs": [],
   "source": []
  },
  {
   "cell_type": "markdown",
   "id": "3d2520ad",
   "metadata": {},
   "source": [
    "### Step 5: Define the Loss Functions and Optimizers\n",
    "Set up the loss functions for both the Generator and Discriminator, and choose the optimizers for training."
   ]
  },
  {
   "cell_type": "code",
   "execution_count": null,
   "id": "6f718ebd",
   "metadata": {},
   "outputs": [],
   "source": []
  },
  {
   "cell_type": "markdown",
   "id": "d2867bf0",
   "metadata": {},
   "source": [
    "### Step 6: Implement the Training Loop\n",
    "Write the training loop that will train both the Generator and Discriminator over multiple epochs."
   ]
  },
  {
   "cell_type": "code",
   "execution_count": null,
   "id": "fd91d577",
   "metadata": {},
   "outputs": [],
   "source": []
  },
  {
   "cell_type": "markdown",
   "id": "b69638d1",
   "metadata": {},
   "source": [
    "### Step 7: Generate and Visualize Images\n",
    "After training, generate new images using the trained Generator and visualize them."
   ]
  },
  {
   "cell_type": "code",
   "execution_count": null,
   "id": "d43321bf",
   "metadata": {},
   "outputs": [],
   "source": []
  }
 ],
 "metadata": {
  "language_info": {
   "name": "python"
  }
 },
 "nbformat": 4,
 "nbformat_minor": 5
}
