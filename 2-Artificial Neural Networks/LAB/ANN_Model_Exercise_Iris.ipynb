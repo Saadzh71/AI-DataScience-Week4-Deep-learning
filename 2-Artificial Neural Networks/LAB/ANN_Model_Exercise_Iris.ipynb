{
 "cells": [
  {
   "cell_type": "markdown",
   "id": "cb8aaa37",
   "metadata": {},
   "source": [
    "# Building an ANN with the Iris Dataset\n",
    "    \n",
    "    ## Introduction\n",
    "    Artificial Neural Networks (ANNs) are a cornerstone of modern machine learning. In this lab, you will construct a simple ANN to classify iris plants into one of three species based on the length and width of their sepals and petals. This exercise will help you understand the basics of neural networks, including their architecture, activation functions, and the backpropagation algorithm for training.\n",
    "\n",
    "    ## Dataset Reference\n",
    "    The Iris dataset was introduced by the British statistician and biologist Ronald Fisher in 1936. It is widely used as a beginner's dataset for machine learning classification problems. You can access this dataset via the `sklearn.datasets` module.\n",
    "    "
   ]
  },
  {
   "cell_type": "markdown",
   "id": "9fca486d",
   "metadata": {},
   "source": [
    "## Part 1: Load and Explore the Data\n",
    "    ### Load the Dataset\n",
    "    **Hint**: Use `sklearn.datasets.load_iris()` to load the Iris dataset into your environment.\n",
    "\n",
    "    ### Explore the Data\n",
    "    **Hint**: Use `pandas` to examine the first few rows of the dataset and `matplotlib` or `seaborn` to visualize the feature distributions.\n",
    "    "
   ]
  },
  {
   "cell_type": "markdown",
   "id": "19dc3fd6",
   "metadata": {},
   "source": [
    "## Part 2: Prepare the Data\n",
    "    ### Split the Data into Training and Test Sets\n",
    "    **Hint**: Use `train_test_split` from `sklearn.model_selection` to divide the data into training and test sets.\n",
    "\n",
    "    ### Scale the Features\n",
    "    **Hint**: Standardize the features using `StandardScaler` from `sklearn.preprocessing`.\n",
    "    "
   ]
  },
  {
   "cell_type": "markdown",
   "id": "166c4101",
   "metadata": {},
   "source": [
    "## Part 3: Build the ANN Model\n",
    "    ### Define the Model\n",
    "    **Hint**: Use `keras` to define a sequential model. Start with a single hidden layer with a ReLU activation function.\n",
    "\n",
    "    ### Compile the Model\n",
    "    **Hint**: Compile your model specifying an optimizer and loss function appropriate for classification.\n",
    "    "
   ]
  },
  {
   "cell_type": "markdown",
   "id": "8dd17d04",
   "metadata": {},
   "source": [
    "## Part 4: Train the Model\n",
    "    ### Train the Model\n",
    "    **Hint**: Fit the model on your training data with a reasonable number of epochs.\n",
    "\n",
    "    ### Evaluate the Model\n",
    "    **Hint**: Use the test data to evaluate your model and report the accuracy.\n",
    "    "
   ]
  },
  {
   "cell_type": "markdown",
   "id": "a0f2d8bb",
   "metadata": {},
   "source": [
    "## Part 5: Experiment and Improve\n",
    "    ### Tune the Model\n",
    "    **Hint**: Try adding more hidden layers or neurons, or use different activation functions and see if the accuracy improves.\n",
    "\n",
    "    ### Regularization and Dropout\n",
    "    **Hint**: Implement dropout or regularization techniques to improve the model's generalization.\n",
    "    "
   ]
  },
  {
   "cell_type": "markdown",
   "id": "5ab398a2",
   "metadata": {},
   "source": [
    "\n",
    "## Part 4: Model Evaluation\n",
    "### Evaluate the Model\n",
    "To effectively evaluate your artificial neural network, consider the following metrics:\n",
    "- **Accuracy**: This is the fraction of predictions our model got right.\n",
    "- **Confusion Matrix**: A table used to describe the performance of a classification model on a set of test data for which the true values are known.\n",
    "- **Precision, Recall, and F1-Score**: These metrics provide more insight into the types of errors made by the classifier.\n",
    "**Hint**: Use `classification_report` and `confusion_matrix` from `sklearn.metrics` to calculate these metrics.\n",
    "\n",
    "### Visualize Model Performance\n",
    "Visualizing the learning curves (loss and accuracy over epochs) can provide insights into the training process, such as whether the model is fitting or overfitting.\n",
    "**Hint**: Use `matplotlib.pyplot` to plot training and validation loss and accuracy.\n"
   ]
  },
  {
   "cell_type": "markdown",
   "id": "ac12bf89",
   "metadata": {},
   "source": [
    "## Conclusion\n",
    "    Summarize what the learner should have gained from this lab, including a better understanding of how ANNs work and how they can be applied to real-world classification problems.\n",
    "    "
   ]
  }
 ],
 "metadata": {},
 "nbformat": 4,
 "nbformat_minor": 5
}
